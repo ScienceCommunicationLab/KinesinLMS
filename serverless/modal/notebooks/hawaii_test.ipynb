{
 "cells": [
  {
   "cell_type": "code",
   "execution_count": null,
   "metadata": {},
   "outputs": [],
   "source": [
    "# TESTING JUPYTER NOTEBOOK INTEGRATION WITH KINESINLMS\n",
    "# Using portion of python notebook found online by Steve Tuttle https://github.com/SteveTuttle/hawaii-climate-analysis-with-app\n",
    "\n",
    "#Import Modules\n",
    "%matplotlib inline\n",
    "from matplotlib import style\n",
    "style.use('fivethirtyeight')\n",
    "import matplotlib.pyplot as plt\n",
    "import numpy as np\n",
    "import pandas as pd\n",
    "import datetime as dt\n",
    "from scipy.stats import ttest_ind\n",
    "plt.rcParams[\"figure.figsize\"] = [14, 10]\n",
    "import sqlalchemy\n",
    "from sqlalchemy import text\n",
    "from sqlalchemy.ext.automap import automap_base\n",
    "from sqlalchemy.orm import Session\n",
    "from sqlalchemy import create_engine, func"
   ]
  },
  {
   "cell_type": "markdown",
   "metadata": {},
   "source": [
    "# Reflect Tables into SQLAlchemy ORM"
   ]
  },
  {
   "cell_type": "code",
   "execution_count": 14,
   "metadata": {},
   "outputs": [],
   "source": [
    "#Define SQLite Database Engine\n",
    "engine = create_engine(\"sqlite:///hawaii_test.sqlite\")"
   ]
  },
  {
   "cell_type": "code",
   "execution_count": 15,
   "metadata": {},
   "outputs": [],
   "source": [
    "#Map Database from SQLite File\n",
    "Base = automap_base()\n",
    "\n",
    "#Import Tables from Database\n",
    "Base.prepare(engine, reflect=True)"
   ]
  },
  {
   "cell_type": "code",
   "execution_count": 16,
   "metadata": {},
   "outputs": [
    {
     "data": {
      "text/plain": [
       "['measurement', 'station']"
      ]
     },
     "execution_count": 16,
     "metadata": {},
     "output_type": "execute_result"
    }
   ],
   "source": [
    "#Display Class Names\n",
    "Base.classes.keys()"
   ]
  },
  {
   "cell_type": "code",
   "execution_count": 17,
   "metadata": {},
   "outputs": [],
   "source": [
    "#Define Classes as Table Names\n",
    "Measurement = Base.classes.measurement\n",
    "Station = Base.classes.station"
   ]
  },
  {
   "cell_type": "code",
   "execution_count": 18,
   "metadata": {},
   "outputs": [],
   "source": [
    "#Create Session Link to SQLite Database\n",
    "session = Session(engine)"
   ]
  },
  {
   "cell_type": "markdown",
   "metadata": {},
   "source": [
    "# Exploratory Climate Analysis"
   ]
  },
  {
   "cell_type": "code",
   "execution_count": 19,
   "metadata": {},
   "outputs": [],
   "source": [
    "#Extract All Avialable Dates from Measurements Table\n",
    "date_list = []\n",
    "with engine.connect() as connection:\n",
    "    result = connection.execute(text('SELECT date FROM Measurement'))\n",
    "    date_list = [row for row in result.fetchall()]\n",
    "\n",
    "#Loop Thruough Dates to Find Latest Record\n",
    "for date in date_list:\n",
    "    last_date = date[0]\n",
    "    \n",
    "#Split Lastest Date Record at Dashes to Isolate Year/Month/Day\n",
    "date_split = last_date.split('-')\n",
    "\n",
    "#Subtract One from Year Index\n",
    "date_split[0] = str(int(date_split[0]) - 1)\n",
    "\n",
    "#Re-Assemble Date Value & Record as Year Prior Date\n",
    "prior_date = date_split[0] + '-' + date_split[1] + '-' + date_split[2]\n",
    "\n",
    "#Query Database to Create Pandas Data Frame of Precipitation Data for Selected Year-Long Period\n",
    "precip_data = pd.read_sql('SELECT date, prcp FROM Measurement WHERE date >= (?)', engine, params = (prior_date,))\n",
    "\n",
    "#Drop Rows with Missing Values\n",
    "precip_data = precip_data.dropna()\n",
    "\n",
    "#Set Date Values as Data Frame Index\n",
    "precip_data = precip_data.set_index('date')\n",
    "\n",
    "#Sort Data Frame by Date\n",
    "precip_data = precip_data.sort_index()\n",
    "\n",
    "#Plot Bar Chart of Precipitation History for Selected Year\n",
    "precip_data.plot(legend = None)\n",
    "plt.xlabel('Date')\n",
    "plt.ylabel('Precipitation Amount (in)')\n",
    "plt.title('Hawaii Precipitation from ' + prior_date + ' to ' + last_date)\n",
    "plt.savefig('Precipitation_History.png')\n",
    "plt.show()"
   ]
  }
 ],
 "metadata": {
  "kernel_info": {
   "name": "python3"
  },
  "kernelspec": {
   "display_name": "Python 3",
   "language": "python",
   "name": "python3"
  },
  "language_info": {
   "codemirror_mode": {
    "name": "ipython",
    "version": 3
   },
   "file_extension": ".py",
   "mimetype": "text/x-python",
   "name": "python",
   "nbconvert_exporter": "python",
   "pygments_lexer": "ipython3",
   "version": "3.7.3"
  },
  "nteract": {
   "version": "0.12.3"
  },
  "varInspector": {
   "cols": {
    "lenName": 16,
    "lenType": 16,
    "lenVar": 40
   },
   "kernels_config": {
    "python": {
     "delete_cmd_postfix": "",
     "delete_cmd_prefix": "del ",
     "library": "var_list.py",
     "varRefreshCmd": "print(var_dic_list())"
    },
    "r": {
     "delete_cmd_postfix": ") ",
     "delete_cmd_prefix": "rm(",
     "library": "var_list.r",
     "varRefreshCmd": "cat(var_dic_list()) "
    }
   },
   "types_to_exclude": [
    "module",
    "function",
    "builtin_function_or_method",
    "instance",
    "_Feature"
   ],
   "window_display": false
  }
 },
 "nbformat": 4,
 "nbformat_minor": 2
}
